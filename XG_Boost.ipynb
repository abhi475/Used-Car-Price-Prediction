{
 "cells": [
  {
   "cell_type": "code",
   "execution_count": 1,
   "id": "ccc07864-4899-43b0-b082-08c6cdba41f9",
   "metadata": {},
   "outputs": [],
   "source": [
    "import pandas as pd\n",
    "import numpy as np\n",
    "from sklearn.model_selection import train_test_split, cross_val_score\n",
    "from sklearn.metrics import r2_score\n",
    "from xgboost import XGBRegressor"
   ]
  },
  {
   "cell_type": "code",
   "execution_count": 2,
   "id": "f772d918-3a9b-441b-a80b-03a4b6684aaa",
   "metadata": {},
   "outputs": [],
   "source": [
    "df = pd.read_csv('Cleaned.csv')"
   ]
  },
  {
   "cell_type": "code",
   "execution_count": 3,
   "id": "75bf3932-c17f-49ad-bc17-6a24a15d46de",
   "metadata": {},
   "outputs": [],
   "source": [
    "x = df.drop(columns='Price')\n",
    "y = df['Price']"
   ]
  },
  {
   "cell_type": "code",
   "execution_count": 4,
   "id": "9ed84ac7-5e6e-428e-bc05-e91af229ff63",
   "metadata": {},
   "outputs": [],
   "source": [
    "X_train, X_test, y_train, y_test = train_test_split(x, y, test_size=0.2, random_state=52)"
   ]
  },
  {
   "cell_type": "code",
   "execution_count": 5,
   "id": "dec26212-9cae-4a91-94bc-e98914810570",
   "metadata": {},
   "outputs": [
    {
     "name": "stdout",
     "output_type": "stream",
     "text": [
      "Train_R2 Score: 0.79\n",
      "Cross-Validation R2 Scores: 0.74\n",
      "Test_R2 Score: 0.76\n"
     ]
    }
   ],
   "source": [
    "# Initialize and fit the XGBoost Regressor\n",
    "xgb_model = XGBRegressor(n_estimators=100, learning_rate=0.1, max_depth=3, random_state=52)\n",
    "xgb_model.fit(X_train, y_train)\n",
    "\n",
    "ypred_xgb = xgb_model.predict(X_train)\n",
    "r2 = r2_score(y_train, ypred_xgb)\n",
    "print(f\"Train_R2 Score: {r2:.2f}\")\n",
    "\n",
    "cv_scores = cross_val_score(xgb_model, X_train, y_train, cv=5, scoring='r2').mean()\n",
    "print(f\"Cross-Validation R2 Scores: {cv_scores:.2f}\")\n",
    "\n",
    "y_pred_xgb = xgb_model.predict(X_test)\n",
    "r2 = r2_score(y_test, y_pred_xgb)\n",
    "print(f\"Test_R2 Score: {r2:.2f}\")"
   ]
  }
 ],
 "metadata": {
  "kernelspec": {
   "display_name": "Python 3 (ipykernel)",
   "language": "python",
   "name": "python3"
  },
  "language_info": {
   "codemirror_mode": {
    "name": "ipython",
    "version": 3
   },
   "file_extension": ".py",
   "mimetype": "text/x-python",
   "name": "python",
   "nbconvert_exporter": "python",
   "pygments_lexer": "ipython3",
   "version": "3.11.7"
  }
 },
 "nbformat": 4,
 "nbformat_minor": 5
}

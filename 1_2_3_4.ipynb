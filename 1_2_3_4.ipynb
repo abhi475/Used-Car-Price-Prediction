{
 "cells": [
  {
   "cell_type": "markdown",
   "id": "699e2ebd-339e-4b60-aba8-1d90fb6cf1f0",
   "metadata": {},
   "source": [
    "**STEP_1 : BUSSINESS PROBLEM**\n",
    "- Based on given car features, predict the selling price of used car.\n",
    "- required R**2 is 0.85 on both train and test."
   ]
  },
  {
   "cell_type": "code",
   "execution_count": 1,
   "id": "ed9a7424-d12d-4a16-98d4-fad5dc2bd656",
   "metadata": {},
   "outputs": [],
   "source": [
    "import pandas as pd\n",
    "import datetime"
   ]
  },
  {
   "cell_type": "code",
   "execution_count": 2,
   "id": "c6adb874-9d8f-49fc-9521-ead973a0a4a8",
   "metadata": {},
   "outputs": [
    {
     "data": {
      "text/html": [
       "<div>\n",
       "<style scoped>\n",
       "    .dataframe tbody tr th:only-of-type {\n",
       "        vertical-align: middle;\n",
       "    }\n",
       "\n",
       "    .dataframe tbody tr th {\n",
       "        vertical-align: top;\n",
       "    }\n",
       "\n",
       "    .dataframe thead th {\n",
       "        text-align: right;\n",
       "    }\n",
       "</style>\n",
       "<table border=\"1\" class=\"dataframe\">\n",
       "  <thead>\n",
       "    <tr style=\"text-align: right;\">\n",
       "      <th></th>\n",
       "      <th>Name</th>\n",
       "      <th>Price</th>\n",
       "      <th>Rating</th>\n",
       "      <th>city</th>\n",
       "      <th>Kilometers</th>\n",
       "      <th>Year_of_Purchase</th>\n",
       "      <th>Owner</th>\n",
       "      <th>Fuel_Type</th>\n",
       "      <th>Transmission</th>\n",
       "      <th>RTO</th>\n",
       "      <th>Insurance</th>\n",
       "      <th>Insurance_Type</th>\n",
       "    </tr>\n",
       "  </thead>\n",
       "  <tbody>\n",
       "    <tr>\n",
       "      <th>0</th>\n",
       "      <td>2010 Maruti Alto LXI</td>\n",
       "      <td>₹ 174,699</td>\n",
       "      <td>4out of 5</td>\n",
       "      <td>3686</td>\n",
       "      <td>Kilometers34,854 km</td>\n",
       "      <td>Year of PurchaseMay 2010</td>\n",
       "      <td>OwnerFirst Owner</td>\n",
       "      <td>FuelPetrol</td>\n",
       "      <td>TransmissionMANUAL</td>\n",
       "      <td>RTOAP09</td>\n",
       "      <td>NaN</td>\n",
       "      <td>Insurance TypeInsurance Expired</td>\n",
       "    </tr>\n",
       "    <tr>\n",
       "      <th>1</th>\n",
       "      <td>2013 Maruti Wagon R 1.0 VXI</td>\n",
       "      <td>₹ 333,999</td>\n",
       "      <td>4.2out of 5</td>\n",
       "      <td>3686</td>\n",
       "      <td>Kilometers39,541 km</td>\n",
       "      <td>Year of PurchaseJuly 2013</td>\n",
       "      <td>OwnerSecond Owner</td>\n",
       "      <td>FuelPetrol</td>\n",
       "      <td>TransmissionMANUAL</td>\n",
       "      <td>RTOAP28</td>\n",
       "      <td>Insurance6/8/2021</td>\n",
       "      <td>Insurance TypeComp</td>\n",
       "    </tr>\n",
       "    <tr>\n",
       "      <th>2</th>\n",
       "      <td>2014 Maruti Wagon R 1.0 VXI</td>\n",
       "      <td>₹ 353,199</td>\n",
       "      <td>4.3out of 5</td>\n",
       "      <td>3686</td>\n",
       "      <td>Kilometers23,233 km</td>\n",
       "      <td>Year of PurchaseMarch 2014</td>\n",
       "      <td>OwnerSecond Owner</td>\n",
       "      <td>FuelPetrol</td>\n",
       "      <td>TransmissionMANUAL</td>\n",
       "      <td>RTOAP28</td>\n",
       "      <td>Insurance28/4/2021</td>\n",
       "      <td>Insurance TypeComp</td>\n",
       "    </tr>\n",
       "    <tr>\n",
       "      <th>3</th>\n",
       "      <td>2013 Hyundai Eon D LITE PLUS</td>\n",
       "      <td>₹ 237,899</td>\n",
       "      <td>4.4out of 5</td>\n",
       "      <td>3686</td>\n",
       "      <td>Kilometers27,748 km</td>\n",
       "      <td>Year of PurchaseNovember 2013</td>\n",
       "      <td>OwnerFirst Owner</td>\n",
       "      <td>FuelPetrol</td>\n",
       "      <td>TransmissionMANUAL</td>\n",
       "      <td>RTOAP13</td>\n",
       "      <td>Insurance1/1/2022</td>\n",
       "      <td>Insurance TypeComp</td>\n",
       "    </tr>\n",
       "    <tr>\n",
       "      <th>4</th>\n",
       "      <td>2017 Hyundai Eon ERA PLUS</td>\n",
       "      <td>₹ 300,699</td>\n",
       "      <td>4.4out of 5</td>\n",
       "      <td>3686</td>\n",
       "      <td>Kilometers12,238 km</td>\n",
       "      <td>Year of PurchaseAugust 2017</td>\n",
       "      <td>OwnerSecond Owner</td>\n",
       "      <td>FuelPetrol</td>\n",
       "      <td>TransmissionMANUAL</td>\n",
       "      <td>RTOTS10</td>\n",
       "      <td>NaN</td>\n",
       "      <td>Insurance TypeExpired</td>\n",
       "    </tr>\n",
       "  </tbody>\n",
       "</table>\n",
       "</div>"
      ],
      "text/plain": [
       "                           Name      Price       Rating  city  \\\n",
       "0          2010 Maruti Alto LXI  ₹ 174,699    4out of 5  3686   \n",
       "1   2013 Maruti Wagon R 1.0 VXI  ₹ 333,999  4.2out of 5  3686   \n",
       "2   2014 Maruti Wagon R 1.0 VXI  ₹ 353,199  4.3out of 5  3686   \n",
       "3  2013 Hyundai Eon D LITE PLUS  ₹ 237,899  4.4out of 5  3686   \n",
       "4     2017 Hyundai Eon ERA PLUS  ₹ 300,699  4.4out of 5  3686   \n",
       "\n",
       "            Kilometers               Year_of_Purchase              Owner  \\\n",
       "0  Kilometers34,854 km       Year of PurchaseMay 2010   OwnerFirst Owner   \n",
       "1  Kilometers39,541 km      Year of PurchaseJuly 2013  OwnerSecond Owner   \n",
       "2  Kilometers23,233 km     Year of PurchaseMarch 2014  OwnerSecond Owner   \n",
       "3  Kilometers27,748 km  Year of PurchaseNovember 2013   OwnerFirst Owner   \n",
       "4  Kilometers12,238 km    Year of PurchaseAugust 2017  OwnerSecond Owner   \n",
       "\n",
       "    Fuel_Type        Transmission      RTO           Insurance  \\\n",
       "0  FuelPetrol  TransmissionMANUAL  RTOAP09                 NaN   \n",
       "1  FuelPetrol  TransmissionMANUAL  RTOAP28   Insurance6/8/2021   \n",
       "2  FuelPetrol  TransmissionMANUAL  RTOAP28  Insurance28/4/2021   \n",
       "3  FuelPetrol  TransmissionMANUAL  RTOAP13   Insurance1/1/2022   \n",
       "4  FuelPetrol  TransmissionMANUAL  RTOTS10                 NaN   \n",
       "\n",
       "                    Insurance_Type  \n",
       "0  Insurance TypeInsurance Expired  \n",
       "1               Insurance TypeComp  \n",
       "2               Insurance TypeComp  \n",
       "3               Insurance TypeComp  \n",
       "4            Insurance TypeExpired  "
      ]
     },
     "execution_count": 2,
     "metadata": {},
     "output_type": "execute_result"
    }
   ],
   "source": [
    "df = pd.read_excel(\"cars_data.xlsx\")\n",
    "df.head()"
   ]
  },
  {
   "cell_type": "markdown",
   "id": "70bd8ea7-e92d-462a-8543-69ec1dbada4f",
   "metadata": {},
   "source": [
    "**STEP_2 : DATA UNDERSTANDING**"
   ]
  },
  {
   "cell_type": "markdown",
   "id": "46c06d88-2cb9-41ef-b7f5-17b4029880b5",
   "metadata": {},
   "source": [
    "**Features:**\n",
    "1. Independent variables\n",
    "    - Name: Car Model name along with purchase year of the car.\n",
    "    - Rating: Rating given while car inspection by cars 24 team out of 5.\n",
    "    - City: City of that car placed for advertainment, city is given interms of code format.\n",
    "    - Kilometres: How many kilometres that particular car has driven for before placing that advertisement.\n",
    "    - Year of purchase: Original Date of purchase of that car.\n",
    "    - Owner: How many previous owners it had before selling on cars24 site.\n",
    "    - Fuel type: Type of fuel which car runs on. (Petrol, diesel ...)\n",
    "    - Transmission: whether car is automated or manual transmission.\n",
    "    - RT0: Car registered under which RTO\n",
    "    - Insurance: expiry date of the insurance if any\n",
    "    - Insurance Type: Different types insurance availed by owner.\n",
    "2. Target:\n",
    "    - Price: Price of the used car"
   ]
  },
  {
   "cell_type": "code",
   "execution_count": 3,
   "id": "7885c0c0-4941-414e-bfe4-0a2b01caa769",
   "metadata": {},
   "outputs": [
    {
     "data": {
      "text/plain": [
       "(32158, 12)"
      ]
     },
     "execution_count": 3,
     "metadata": {},
     "output_type": "execute_result"
    }
   ],
   "source": [
    "df.shape"
   ]
  },
  {
   "cell_type": "code",
   "execution_count": 4,
   "id": "3c364ad6-cf61-49dd-a454-7fb147149551",
   "metadata": {},
   "outputs": [
    {
     "name": "stdout",
     "output_type": "stream",
     "text": [
      "<class 'pandas.core.frame.DataFrame'>\n",
      "RangeIndex: 32158 entries, 0 to 32157\n",
      "Data columns (total 12 columns):\n",
      " #   Column            Non-Null Count  Dtype \n",
      "---  ------            --------------  ----- \n",
      " 0   Name              32158 non-null  object\n",
      " 1   Price             32158 non-null  object\n",
      " 2   Rating            32158 non-null  object\n",
      " 3   city              32158 non-null  int64 \n",
      " 4   Kilometers        32158 non-null  object\n",
      " 5   Year_of_Purchase  32158 non-null  object\n",
      " 6   Owner             32158 non-null  object\n",
      " 7   Fuel_Type         32158 non-null  object\n",
      " 8   Transmission      29342 non-null  object\n",
      " 9   RTO               32158 non-null  object\n",
      " 10  Insurance         22965 non-null  object\n",
      " 11  Insurance_Type    32158 non-null  object\n",
      "dtypes: int64(1), object(11)\n",
      "memory usage: 2.9+ MB\n"
     ]
    }
   ],
   "source": [
    "df.info()"
   ]
  },
  {
   "cell_type": "code",
   "execution_count": 5,
   "id": "f709929f-3ac0-4c8e-bea7-0326f7ed9372",
   "metadata": {},
   "outputs": [
    {
     "data": {
      "text/plain": [
       "Name                   0\n",
       "Price                  0\n",
       "Rating                 0\n",
       "city                   0\n",
       "Kilometers             0\n",
       "Year_of_Purchase       0\n",
       "Owner                  0\n",
       "Fuel_Type              0\n",
       "Transmission        2816\n",
       "RTO                    0\n",
       "Insurance           9193\n",
       "Insurance_Type         0\n",
       "dtype: int64"
      ]
     },
     "execution_count": 5,
     "metadata": {},
     "output_type": "execute_result"
    }
   ],
   "source": [
    "df.isnull().sum()"
   ]
  },
  {
   "cell_type": "code",
   "execution_count": 6,
   "id": "05b046db-e97f-4cc0-aa71-720bd730c82c",
   "metadata": {},
   "outputs": [
    {
     "data": {
      "text/plain": [
       "Name                 0.000000\n",
       "Price                0.000000\n",
       "Rating               0.000000\n",
       "city                 0.000000\n",
       "Kilometers           0.000000\n",
       "Year_of_Purchase     0.000000\n",
       "Owner                0.000000\n",
       "Fuel_Type            0.000000\n",
       "Transmission         8.756763\n",
       "RTO                  0.000000\n",
       "Insurance           28.586977\n",
       "Insurance_Type       0.000000\n",
       "dtype: float64"
      ]
     },
     "execution_count": 6,
     "metadata": {},
     "output_type": "execute_result"
    }
   ],
   "source": [
    "df.isnull().mean() * 100"
   ]
  },
  {
   "cell_type": "code",
   "execution_count": 7,
   "id": "86183d58-3557-4565-861d-b63c3658a8b3",
   "metadata": {},
   "outputs": [
    {
     "data": {
      "text/plain": [
       "0"
      ]
     },
     "execution_count": 7,
     "metadata": {},
     "output_type": "execute_result"
    }
   ],
   "source": [
    "df.duplicated().sum()"
   ]
  },
  {
   "cell_type": "code",
   "execution_count": 8,
   "id": "d3844869-1b52-4870-b079-5e62a9f0e5e8",
   "metadata": {},
   "outputs": [
    {
     "data": {
      "text/plain": [
       "Index(['Name', 'Price', 'Rating', 'city', 'Kilometers', 'Year_of_Purchase',\n",
       "       'Owner', 'Fuel_Type', 'Transmission', 'RTO', 'Insurance',\n",
       "       'Insurance_Type'],\n",
       "      dtype='object')"
      ]
     },
     "execution_count": 8,
     "metadata": {},
     "output_type": "execute_result"
    }
   ],
   "source": [
    "df.columns"
   ]
  },
  {
   "cell_type": "markdown",
   "id": "08e646ef-9ed3-4436-ae5c-492069ee0fa9",
   "metadata": {},
   "source": [
    "**COLUMN_1**"
   ]
  },
  {
   "cell_type": "code",
   "execution_count": 9,
   "id": "8f8afc16-a456-420f-84c1-1a76c916b15d",
   "metadata": {},
   "outputs": [
    {
     "data": {
      "text/plain": [
       "0                         2010 Maruti Alto LXI\n",
       "1                  2013 Maruti Wagon R 1.0 VXI\n",
       "2                  2014 Maruti Wagon R 1.0 VXI\n",
       "3                 2013 Hyundai Eon D LITE PLUS\n",
       "4                    2017 Hyundai Eon ERA PLUS\n",
       "                         ...                  \n",
       "32153                2008 Ford Fiesta 1.6 ZXI \n",
       "32154            2015 Chevrolet Beat LS DIESEL\n",
       "32155         2008 Ford Endeavour XLT TDCI 4X2\n",
       "32156          2016 Maruti Swift Dzire VDI ABS\n",
       "32157    2007 Mercedes Benz C Class 220 CDI AT\n",
       "Name: Name, Length: 32158, dtype: object"
      ]
     },
     "execution_count": 9,
     "metadata": {},
     "output_type": "execute_result"
    }
   ],
   "source": [
    "df['Name']"
   ]
  },
  {
   "cell_type": "code",
   "execution_count": 10,
   "id": "0ea6fb4c-8039-482f-9036-b8ba75210ff6",
   "metadata": {},
   "outputs": [],
   "source": [
    "# Extract year (first 4 digits) using apply\n",
    "df['Year_of_Purchase'] = df['Name'].apply(lambda x: x[:4]).astype(int)\n",
    "\n",
    "# Extract Brand (first two words after the year)\n",
    "df['Brand'] = df['Name'].apply(lambda x: ' '.join(x.split()[1:3]))\n",
    "\n",
    "# Extract Model (assuming it's between the brand and the variant/number)\n",
    "df['Model'] = df['Name'].apply(lambda x: ' '.join(x.split()[3:-1]) if len(x.split()) > 3 else '')\n",
    "\n",
    "# Extract Variant (rest of the words after model)\n",
    "df['Variant'] = df['Name'].apply(lambda x: ' '.join(x.split()[-1:]) if len(x.split()) > 3 else '')"
   ]
  },
  {
   "cell_type": "markdown",
   "id": "e61fe7da-e30c-4811-894b-c194d78c324a",
   "metadata": {},
   "source": [
    "1. Year of Purchase\n",
    "   - The Name column contains the year of purchase as the first 4 digits, which I need to extract for later analysis (like calculating the car's age).\n",
    "2. Brand\n",
    "   - The Name column usually contains the car brand (e.g., Maruti, Toyota) as part of the model name, and I need to extract it for classification or analysis.\n",
    "3. Model:\n",
    "   - Following the brand, the model name (e.g., Alto, Corolla) is present. Extracting the model allows us to understand the specific car type and perform further analyses based on car models.\n",
    "4. Variant:\n",
    "   - The variant (e.g., LXI, VXI, CDI, AT) often appears after the model and can provide valuable insights into the car’s features (like transmission type, engine type, or trim level)."
   ]
  },
  {
   "cell_type": "code",
   "execution_count": 11,
   "id": "dd8e614a-e3e6-46a6-8182-4c00d34f7a5c",
   "metadata": {},
   "outputs": [],
   "source": [
    "df.drop(columns='Name', inplace=True)"
   ]
  },
  {
   "cell_type": "code",
   "execution_count": 12,
   "id": "c01a724d-82d1-4605-b2c0-37ba326460a2",
   "metadata": {},
   "outputs": [
    {
     "data": {
      "text/plain": [
       "0        2010\n",
       "1        2013\n",
       "2        2014\n",
       "3        2013\n",
       "4        2017\n",
       "         ... \n",
       "32153    2008\n",
       "32154    2015\n",
       "32155    2008\n",
       "32156    2016\n",
       "32157    2007\n",
       "Name: Year_of_Purchase, Length: 32158, dtype: int64"
      ]
     },
     "execution_count": 12,
     "metadata": {},
     "output_type": "execute_result"
    }
   ],
   "source": [
    "df['Year_of_Purchase']"
   ]
  },
  {
   "cell_type": "code",
   "execution_count": 13,
   "id": "b39b3965-7a5c-4757-a703-a51df58b2697",
   "metadata": {},
   "outputs": [
    {
     "data": {
      "text/plain": [
       "0           Maruti Alto\n",
       "1          Maruti Wagon\n",
       "2          Maruti Wagon\n",
       "3           Hyundai Eon\n",
       "4           Hyundai Eon\n",
       "              ...      \n",
       "32153       Ford Fiesta\n",
       "32154    Chevrolet Beat\n",
       "32155    Ford Endeavour\n",
       "32156      Maruti Swift\n",
       "32157     Mercedes Benz\n",
       "Name: Brand, Length: 32158, dtype: object"
      ]
     },
     "execution_count": 13,
     "metadata": {},
     "output_type": "execute_result"
    }
   ],
   "source": [
    "df['Brand']"
   ]
  },
  {
   "cell_type": "code",
   "execution_count": 14,
   "id": "989fce76-f02a-4ea3-8f61-37e020260979",
   "metadata": {},
   "outputs": [
    {
     "data": {
      "text/plain": [
       "0                       \n",
       "1                  R 1.0\n",
       "2                  R 1.0\n",
       "3                 D LITE\n",
       "4                    ERA\n",
       "              ...       \n",
       "32153                1.6\n",
       "32154                 LS\n",
       "32155           XLT TDCI\n",
       "32156          Dzire VDI\n",
       "32157    C Class 220 CDI\n",
       "Name: Model, Length: 32158, dtype: object"
      ]
     },
     "execution_count": 14,
     "metadata": {},
     "output_type": "execute_result"
    }
   ],
   "source": [
    "df['Model']"
   ]
  },
  {
   "cell_type": "code",
   "execution_count": 15,
   "id": "a21411e1-edf2-4398-aa15-2ac460f119c6",
   "metadata": {},
   "outputs": [
    {
     "data": {
      "text/plain": [
       "0           LXI\n",
       "1           VXI\n",
       "2           VXI\n",
       "3          PLUS\n",
       "4          PLUS\n",
       "          ...  \n",
       "32153       ZXI\n",
       "32154    DIESEL\n",
       "32155       4X2\n",
       "32156       ABS\n",
       "32157        AT\n",
       "Name: Variant, Length: 32158, dtype: object"
      ]
     },
     "execution_count": 15,
     "metadata": {},
     "output_type": "execute_result"
    }
   ],
   "source": [
    "df['Variant']"
   ]
  },
  {
   "cell_type": "code",
   "execution_count": 16,
   "id": "7939d2a0-b686-44bf-a72f-233c2d1cab54",
   "metadata": {},
   "outputs": [],
   "source": [
    "# Calculate Car Age\n",
    "current_year = datetime.datetime.now().year\n",
    "df['Car_Age'] = current_year - df['Year_of_Purchase']"
   ]
  },
  {
   "cell_type": "markdown",
   "id": "d0f8a219-4882-4262-a86d-b6120b6c273d",
   "metadata": {},
   "source": [
    "**Car Age**\n",
    "- By subtracting the extracted year of purchase from the current year, I can calculate the car's age, which is an important feature for pricing and understanding depreciation trends."
   ]
  },
  {
   "cell_type": "markdown",
   "id": "32890e50-eadc-4b80-805d-03bae6a17830",
   "metadata": {},
   "source": [
    "**COLUMN_2**"
   ]
  },
  {
   "cell_type": "code",
   "execution_count": 17,
   "id": "72d775e0-0d5c-4eba-8d84-d36f190bbd4c",
   "metadata": {},
   "outputs": [
    {
     "data": {
      "text/plain": [
       "0        ₹ 174,699\n",
       "1        ₹ 333,999\n",
       "2        ₹ 353,199\n",
       "3        ₹ 237,899\n",
       "4        ₹ 300,699\n",
       "           ...    \n",
       "32153    ₹ 150,000\n",
       "32154    ₹ 250,000\n",
       "32155    ₹ 500,000\n",
       "32156    ₹ 600,000\n",
       "32157    ₹ 484,000\n",
       "Name: Price, Length: 32158, dtype: object"
      ]
     },
     "execution_count": 17,
     "metadata": {},
     "output_type": "execute_result"
    }
   ],
   "source": [
    "df['Price']"
   ]
  },
  {
   "cell_type": "code",
   "execution_count": 18,
   "id": "f5d859e1-f7ea-413d-b4fa-9782271b46e5",
   "metadata": {},
   "outputs": [],
   "source": [
    "# Remove the '₹' symbol and commas\n",
    "df['Price'] = df['Price'].replace({'₹': '', ',': ''}, regex=True)\n",
    "\n",
    "# Convert the cleaned values to numeric (float or int)\n",
    "df['Price'] = pd.to_numeric(df['Price'], errors='coerce')"
   ]
  },
  {
   "cell_type": "markdown",
   "id": "a57c7d24-bfe1-404b-aa03-c5861743689a",
   "metadata": {},
   "source": [
    "- The data type of the 'Price' column was incorrect, so I converted it from object to int."
   ]
  },
  {
   "cell_type": "code",
   "execution_count": 19,
   "id": "750a9a01-eba5-493a-8ecf-580427450170",
   "metadata": {},
   "outputs": [
    {
     "data": {
      "text/plain": [
       "dtype('int64')"
      ]
     },
     "execution_count": 19,
     "metadata": {},
     "output_type": "execute_result"
    }
   ],
   "source": [
    "df['Price'].dtype"
   ]
  },
  {
   "cell_type": "markdown",
   "id": "71aecedd-8452-4713-a4b8-6de905399e2c",
   "metadata": {},
   "source": [
    "**COLUMN_3**"
   ]
  },
  {
   "cell_type": "code",
   "execution_count": 20,
   "id": "832b37f9-15de-4a7a-bb80-8edcb3f18b63",
   "metadata": {},
   "outputs": [
    {
     "data": {
      "text/plain": [
       "0          4out of 5\n",
       "1        4.2out of 5\n",
       "2        4.3out of 5\n",
       "3        4.4out of 5\n",
       "4        4.4out of 5\n",
       "            ...     \n",
       "32153    3.4out of 5\n",
       "32154    3.5out of 5\n",
       "32155    3.6out of 5\n",
       "32156    4.7out of 5\n",
       "32157    3.8out of 5\n",
       "Name: Rating, Length: 32158, dtype: object"
      ]
     },
     "execution_count": 20,
     "metadata": {},
     "output_type": "execute_result"
    }
   ],
   "source": [
    "df['Rating']"
   ]
  },
  {
   "cell_type": "code",
   "execution_count": 21,
   "id": "9367cd60-f931-4362-88e5-7665cfe02bb0",
   "metadata": {},
   "outputs": [],
   "source": [
    "# Remove the 'out of 5' text and any spaces, then convert to numeric\n",
    "df['Rating'] = df['Rating'].replace({'out of 5': '', ' ': ''}, regex=True)\n",
    "\n",
    "# Convert the cleaned values to numeric (float)\n",
    "df['Rating'] = pd.to_numeric(df['Rating'], errors='coerce')"
   ]
  },
  {
   "cell_type": "markdown",
   "id": "f3894f8a-d4ed-4c05-8a39-8a643826b75e",
   "metadata": {},
   "source": [
    "- I converted the Rating column from object to numeric format because machine learning models understand only numeric data, and it is also required for analysis."
   ]
  },
  {
   "cell_type": "code",
   "execution_count": 22,
   "id": "48a21c6d-031d-45bf-aeb1-298d22b27c3a",
   "metadata": {},
   "outputs": [
    {
     "data": {
      "text/plain": [
       "dtype('float64')"
      ]
     },
     "execution_count": 22,
     "metadata": {},
     "output_type": "execute_result"
    }
   ],
   "source": [
    "df['Rating'].dtype"
   ]
  },
  {
   "cell_type": "code",
   "execution_count": 23,
   "id": "8beab10b-1626-42aa-b6c2-7e5c8883c5a3",
   "metadata": {},
   "outputs": [
    {
     "data": {
      "text/plain": [
       "count    32158.000000\n",
       "mean         4.046806\n",
       "std          0.617091\n",
       "min          0.500000\n",
       "25%          3.800000\n",
       "50%          4.100000\n",
       "75%          4.400000\n",
       "max          5.000000\n",
       "Name: Rating, dtype: float64"
      ]
     },
     "execution_count": 23,
     "metadata": {},
     "output_type": "execute_result"
    }
   ],
   "source": [
    "df['Rating'].describe()"
   ]
  },
  {
   "cell_type": "markdown",
   "id": "ffe38690-1d45-4021-8802-a32ad094b995",
   "metadata": {},
   "source": [
    "**COLUMN_4**"
   ]
  },
  {
   "cell_type": "code",
   "execution_count": 24,
   "id": "18a1cf89-5329-4bad-bd7f-f4f816615f16",
   "metadata": {},
   "outputs": [
    {
     "data": {
      "text/plain": [
       "0        3686\n",
       "1        3686\n",
       "2        3686\n",
       "3        3686\n",
       "4        3686\n",
       "         ... \n",
       "32153     769\n",
       "32154     769\n",
       "32155     769\n",
       "32156     769\n",
       "32157     769\n",
       "Name: city, Length: 32158, dtype: int64"
      ]
     },
     "execution_count": 24,
     "metadata": {},
     "output_type": "execute_result"
    }
   ],
   "source": [
    "df['city']"
   ]
  },
  {
   "cell_type": "code",
   "execution_count": 25,
   "id": "41d18e8d-91b3-4396-9410-75dacbae0bd9",
   "metadata": {},
   "outputs": [
    {
     "data": {
      "text/plain": [
       "10"
      ]
     },
     "execution_count": 25,
     "metadata": {},
     "output_type": "execute_result"
    }
   ],
   "source": [
    "df['city'].nunique()"
   ]
  },
  {
   "cell_type": "code",
   "execution_count": 26,
   "id": "85a4cee7-fb8e-4586-91c9-4f3a641626d0",
   "metadata": {},
   "outputs": [
    {
     "data": {
      "image/png": "[encoded data removed]",
      "text/plain": [
       "<Figure size 1000x600 with 1 Axes>"
      ]
     },
     "metadata": {},
     "output_type": "display_data"
    }
   ],
   "source": [
    "import matplotlib.pyplot as plt\n",
    "\n",
    "# Plot the city distribution\n",
    "city_counts = df['city'].value_counts()\n",
    "\n",
    "# Plot the top 10 city distribution\n",
    "ax = city_counts.head(10).plot(kind='bar', figsize=(10, 6), color='skyblue')\n",
    "\n",
    "# Add value annotations over the bars\n",
    "for i, v in enumerate(city_counts.head(10)):\n",
    "    ax.text(i, v + 50, str(v), ha='center', va='bottom', fontsize=10)  # Adjust offset as needed\n",
    "\n",
    "# Add title and labels\n",
    "plt.title(\"Distribution of Cars Across 10 City Codes\")\n",
    "plt.xlabel(\"City Code\")\n",
    "plt.ylabel(\"Number of Cars\")\n",
    "plt.xticks(rotation=45)\n",
    "\n",
    "# Show the plot\n",
    "plt.show()"
   ]
  },
  {
   "cell_type": "markdown",
   "id": "203888b7-2040-4035-ba48-90078d3a714b",
   "metadata": {},
   "source": [
    "**COLUMN_5**"
   ]
  },
  {
   "cell_type": "code",
   "execution_count": 27,
   "id": "36835c24-46b6-4b20-85c6-32adb1665bf7",
   "metadata": {},
   "outputs": [
    {
     "data": {
      "text/plain": [
       "0         Kilometers34,854 km\n",
       "1         Kilometers39,541 km\n",
       "2         Kilometers23,233 km\n",
       "3         Kilometers27,748 km\n",
       "4         Kilometers12,238 km\n",
       "                 ...         \n",
       "32153     Kilometers95,792 km\n",
       "32154     Kilometers54,505 km\n",
       "32155    Kilometers161,322 km\n",
       "32156     Kilometers52,006 km\n",
       "32157     Kilometers88,818 km\n",
       "Name: Kilometers, Length: 32158, dtype: object"
      ]
     },
     "execution_count": 27,
     "metadata": {},
     "output_type": "execute_result"
    }
   ],
   "source": [
    "df['Kilometers']"
   ]
  },
  {
   "cell_type": "code",
   "execution_count": 28,
   "id": "6ab0a116-1d51-4037-b2cb-ac6b974155e6",
   "metadata": {},
   "outputs": [],
   "source": [
    "# Remove the 'Kilometers' and ' km' parts and convert to integer\n",
    "df['Kilometers'] = df['Kilometers'].str.replace('Kilometers', '').str.replace(' km', '').str.replace(',', '').astype(int)"
   ]
  },
  {
   "cell_type": "markdown",
   "id": "a5ecd91f-2c0b-42c8-934e-46360ae74d93",
   "metadata": {},
   "source": [
    "- The data type of the 'Kilometers' column was incorrect, so I converted it from object to int."
   ]
  },
  {
   "cell_type": "code",
   "execution_count": 29,
   "id": "6699e3c9-8771-4fb7-ab51-d87af97a3e9b",
   "metadata": {},
   "outputs": [
    {
     "data": {
      "text/plain": [
       "dtype('int64')"
      ]
     },
     "execution_count": 29,
     "metadata": {},
     "output_type": "execute_result"
    }
   ],
   "source": [
    "df['Kilometers'].dtype"
   ]
  },
  {
   "cell_type": "markdown",
   "id": "27af55da-e583-44d8-926a-180bf96da954",
   "metadata": {},
   "source": [
    "**COLUMN_5**"
   ]
  },
  {
   "cell_type": "code",
   "execution_count": 30,
   "id": "fe0d44a2-4162-420f-a554-83e38b1f6f28",
   "metadata": {},
   "outputs": [
    {
     "data": {
      "text/plain": [
       "0"
      ]
     },
     "execution_count": 30,
     "metadata": {},
     "output_type": "execute_result"
    }
   ],
   "source": [
    "df['Year_of_Purchase'].isnull().sum()"
   ]
  },
  {
   "cell_type": "code",
   "execution_count": 31,
   "id": "8ca62d5e-2d37-41a6-9f12-7a2d6c6e9892",
   "metadata": {},
   "outputs": [
    {
     "data": {
      "image/png": "[encoded data removed]",
      "text/plain": [
       "<Figure size 1000x600 with 1 Axes>"
      ]
     },
     "metadata": {},
     "output_type": "display_data"
    }
   ],
   "source": [
    "import matplotlib.pyplot as plt\n",
    "\n",
    "# Count the occurrences of each year in the 'Year_of_Purchase' column\n",
    "year_counts = df['Year_of_Purchase'].value_counts()\n",
    "\n",
    "# Plot the distribution\n",
    "plt.figure(figsize=(10, 6))\n",
    "ax = year_counts.sort_index().plot(kind='bar', color='skyblue')\n",
    "\n",
    "# Add value annotations over the bars\n",
    "for i, v in enumerate(year_counts.sort_index()):\n",
    "    ax.text(i, v + 20, str(v), ha='center', va='bottom', fontsize=10)\n",
    "\n",
    "plt.title('Distribution of Cars by Year of Purchase')\n",
    "plt.xlabel('Year of Purchase')\n",
    "plt.ylabel('Number of Cars')\n",
    "plt.xticks(rotation=45)\n",
    "plt.show()"
   ]
  },
  {
   "cell_type": "markdown",
   "id": "52c4607b-94eb-415f-8590-5cc0387b1386",
   "metadata": {},
   "source": [
    "**COLUMN_6**"
   ]
  },
  {
   "cell_type": "code",
   "execution_count": 32,
   "id": "d4619fde-7220-4e07-85da-2281aea399c4",
   "metadata": {},
   "outputs": [
    {
     "data": {
      "text/plain": [
       "0         OwnerFirst Owner\n",
       "1        OwnerSecond Owner\n",
       "2        OwnerSecond Owner\n",
       "3         OwnerFirst Owner\n",
       "4        OwnerSecond Owner\n",
       "               ...        \n",
       "32153     OwnerThird Owner\n",
       "32154    OwnerSecond Owner\n",
       "32155    OwnerSecond Owner\n",
       "32156     OwnerFirst Owner\n",
       "32157    OwnerSecond Owner\n",
       "Name: Owner, Length: 32158, dtype: object"
      ]
     },
     "execution_count": 32,
     "metadata": {},
     "output_type": "execute_result"
    }
   ],
   "source": [
    "df['Owner']"
   ]
  },
  {
   "cell_type": "code",
   "execution_count": 33,
   "id": "6147cc38-24c3-4043-924b-43d0420b7480",
   "metadata": {},
   "outputs": [],
   "source": [
    "# Create a mapping for owner strings to numbers\n",
    "owner_mapping = {\n",
    "    'OwnerFirst Owner': 1,\n",
    "    'OwnerSecond Owner': 2,\n",
    "    'OwnerThird Owner': 3,\n",
    "    'OwnerFourth Owner': 4,\n",
    "    'OwnerFifth Owner': 5,\n",
    "    'OwnerSixth Owner': 6,\n",
    "    'OwnerSeventh Owner': 7,\n",
    "    'OwnerEighth Owner': 8,\n",
    "    'OwnerNinth Owner': 9,\n",
    "    'OwnerTenth Owner': 10\n",
    "}\n",
    "\n",
    "# Apply the mapping to the 'Owner' column\n",
    "df['Owner'] = df['Owner'].map(owner_mapping)"
   ]
  },
  {
   "cell_type": "markdown",
   "id": "fa5e9aab-eb62-4784-9cb1-a4fa780be7a3",
   "metadata": {},
   "source": [
    "- I mapped this because 'OwnerFirst Owner' and similar values provide useful information, but it is not in an easily usable format.\n",
    "- Additionally, machine learning models understand numeric data, so I converted this from an object to an integer format."
   ]
  },
  {
   "cell_type": "code",
   "execution_count": 34,
   "id": "05302942-741b-43e5-993d-5acd3441532c",
   "metadata": {},
   "outputs": [
    {
     "data": {
      "text/plain": [
       "dtype('int64')"
      ]
     },
     "execution_count": 34,
     "metadata": {},
     "output_type": "execute_result"
    }
   ],
   "source": [
    "df['Owner'].dtype"
   ]
  },
  {
   "cell_type": "code",
   "execution_count": 35,
   "id": "61a43bd0-5115-4c4d-95a9-03c0e0887e61",
   "metadata": {},
   "outputs": [
    {
     "data": {
      "image/png": "[encoded data removed]",
      "text/plain": [
       "<Figure size 1000x600 with 1 Axes>"
      ]
     },
     "metadata": {},
     "output_type": "display_data"
    }
   ],
   "source": [
    "import matplotlib.pyplot as plt\n",
    "\n",
    "# Plot the distribution of 'Owner' column (number of previous owners)\n",
    "owner_counts = df['Owner'].value_counts().sort_index()\n",
    "\n",
    "# Plotting the bar chart\n",
    "plt.figure(figsize=(10, 6))\n",
    "ax = owner_counts.plot(kind='bar', color='skyblue')\n",
    "\n",
    "# Adding titles and labels\n",
    "plt.title('Distribution of Cars by Number of Previous Owners')\n",
    "plt.xlabel('Number of Previous Owners')\n",
    "plt.ylabel('Number of Cars')\n",
    "plt.xticks(rotation=0)  # To keep x-axis labels horizontal\n",
    "\n",
    "# Add values over the bars\n",
    "for i, v in enumerate(owner_counts):\n",
    "    ax.text(i, v + 50, str(v), ha='center', va='bottom', fontweight='bold')\n",
    "\n",
    "plt.show()"
   ]
  },
  {
   "cell_type": "markdown",
   "id": "c1980860-bc88-4afc-9b1f-0e1d1eed60e1",
   "metadata": {},
   "source": [
    "**COLUMN_7**"
   ]
  },
  {
   "cell_type": "code",
   "execution_count": 36,
   "id": "1c3ce591-f274-413b-b21b-579bf8ee9b44",
   "metadata": {},
   "outputs": [
    {
     "data": {
      "text/plain": [
       "0        FuelPetrol\n",
       "1        FuelPetrol\n",
       "2        FuelPetrol\n",
       "3        FuelPetrol\n",
       "4        FuelPetrol\n",
       "            ...    \n",
       "32153    FuelPetrol\n",
       "32154    FuelDiesel\n",
       "32155    FuelDiesel\n",
       "32156    FuelDiesel\n",
       "32157    FuelDiesel\n",
       "Name: Fuel_Type, Length: 32158, dtype: object"
      ]
     },
     "execution_count": 36,
     "metadata": {},
     "output_type": "execute_result"
    }
   ],
   "source": [
    "df['Fuel_Type']"
   ]
  },
  {
   "cell_type": "code",
   "execution_count": 37,
   "id": "50e182b0-e6f6-4658-9e13-e74cc422cbf7",
   "metadata": {},
   "outputs": [],
   "source": [
    "# Extract just the fuel type (e.g., 'Petrol', 'Diesel') from 'Fuel_Type' column\n",
    "df['Fuel_Type'] = df['Fuel_Type'].str.replace('Fuel', '', regex=True)"
   ]
  },
  {
   "cell_type": "code",
   "execution_count": 38,
   "id": "055510aa-6ecb-4406-b63e-d55148b04812",
   "metadata": {},
   "outputs": [
    {
     "data": {
      "text/plain": [
       "Fuel_Type\n",
       "Diesel          15121\n",
       "Petrol          15013\n",
       "Petrol + CNG     1496\n",
       "Petrol + LPG      503\n",
       "Electric           24\n",
       "Hybrid              1\n",
       "Name: count, dtype: int64"
      ]
     },
     "execution_count": 38,
     "metadata": {},
     "output_type": "execute_result"
    }
   ],
   "source": [
    "df['Fuel_Type'].value_counts()"
   ]
  },
  {
   "cell_type": "code",
   "execution_count": 39,
   "id": "5aa2bee3-e25a-4ff7-807a-db84c3fc0fec",
   "metadata": {},
   "outputs": [],
   "source": [
    "# Create a mapping for Fuel_Type strings to numbers\n",
    "Fuel_Type_mapping = {\n",
    "    'Diesel': 0,\n",
    "    'Electric': 1,\n",
    "    'Hybrid': 2,\n",
    "    'Petrol': 3,\n",
    "    'Petrol + CNG': 4,\n",
    "    'Petrol + LPG': 5,\n",
    "}\n",
    "\n",
    "# Apply the mapping to the 'Owner' column\n",
    "df['Fuel_Type'] = df['Fuel_Type'].map(Fuel_Type_mapping)"
   ]
  },
  {
   "cell_type": "markdown",
   "id": "c2c0a093-e55d-420b-963e-48c0ed6c5bc6",
   "metadata": {},
   "source": [
    "- I did the mapping because machine learning models understand numerical data."
   ]
  },
  {
   "cell_type": "markdown",
   "id": "485834cf-257d-466b-b81e-7574078f979d",
   "metadata": {},
   "source": [
    "**COLUMN_8**"
   ]
  },
  {
   "cell_type": "code",
   "execution_count": 40,
   "id": "8ef74a29-fea3-45f7-9f7b-db913282503c",
   "metadata": {},
   "outputs": [
    {
     "data": {
      "text/plain": [
       "0           TransmissionMANUAL\n",
       "1           TransmissionMANUAL\n",
       "2           TransmissionMANUAL\n",
       "3           TransmissionMANUAL\n",
       "4           TransmissionMANUAL\n",
       "                 ...          \n",
       "32153       TransmissionMANUAL\n",
       "32154       TransmissionMANUAL\n",
       "32155       TransmissionMANUAL\n",
       "32156                      NaN\n",
       "32157    TransmissionAUTOMATIC\n",
       "Name: Transmission, Length: 32158, dtype: object"
      ]
     },
     "execution_count": 40,
     "metadata": {},
     "output_type": "execute_result"
    }
   ],
   "source": [
    "df['Transmission']"
   ]
  },
  {
   "cell_type": "code",
   "execution_count": 41,
   "id": "c1dc6b38-3cb5-416f-8793-290fdf2c12fe",
   "metadata": {},
   "outputs": [],
   "source": [
    "df['Transmission'] = df['Transmission'].str.replace('Transmission', '', regex=True)"
   ]
  },
  {
   "cell_type": "code",
   "execution_count": 42,
   "id": "f04865b6-f97f-4f0b-a2f5-2b7c1befd1b6",
   "metadata": {},
   "outputs": [
    {
     "data": {
      "text/plain": [
       "Transmission\n",
       "MANUAL       26620\n",
       "AUTOMATIC     2722\n",
       "Name: count, dtype: int64"
      ]
     },
     "execution_count": 42,
     "metadata": {},
     "output_type": "execute_result"
    }
   ],
   "source": [
    "df['Transmission'].value_counts()"
   ]
  },
  {
   "cell_type": "code",
   "execution_count": 43,
   "id": "a9e2b780-bd3a-4197-9679-db2f8db31ef8",
   "metadata": {},
   "outputs": [
    {
     "data": {
      "text/plain": [
       "2816"
      ]
     },
     "execution_count": 43,
     "metadata": {},
     "output_type": "execute_result"
    }
   ],
   "source": [
    "df['Transmission'].isnull().sum()"
   ]
  },
  {
   "cell_type": "markdown",
   "id": "2ca6cf9f-5ff3-4a1e-a068-3426868ab4ad",
   "metadata": {},
   "source": [
    "**COLUMN_9**"
   ]
  },
  {
   "cell_type": "code",
   "execution_count": 44,
   "id": "2441a953-c2e4-4b27-9640-98766693da43",
   "metadata": {},
   "outputs": [
    {
     "data": {
      "text/plain": [
       "0        RTOAP09\n",
       "1        RTOAP28\n",
       "2        RTOAP28\n",
       "3        RTOAP13\n",
       "4        RTOTS10\n",
       "          ...   \n",
       "32153    RTOCH04\n",
       "32154    RTOPB13\n",
       "32155    RTOHR03\n",
       "32156    RTOPB65\n",
       "32157    RTOPB65\n",
       "Name: RTO, Length: 32158, dtype: object"
      ]
     },
     "execution_count": 44,
     "metadata": {},
     "output_type": "execute_result"
    }
   ],
   "source": [
    "df['RTO']"
   ]
  },
  {
   "cell_type": "code",
   "execution_count": 45,
   "id": "621ea462-8344-4770-81fa-701a5a283c77",
   "metadata": {},
   "outputs": [],
   "source": [
    "df['RTO'] = df['RTO'].str.replace('RTO', '', regex=True)"
   ]
  },
  {
   "cell_type": "code",
   "execution_count": 46,
   "id": "c49d769f-da1b-48ad-bd5c-8412e7ea7dda",
   "metadata": {},
   "outputs": [
    {
     "data": {
      "text/plain": [
       "0"
      ]
     },
     "execution_count": 46,
     "metadata": {},
     "output_type": "execute_result"
    }
   ],
   "source": [
    "df['RTO'].isnull().sum()"
   ]
  },
  {
   "cell_type": "markdown",
   "id": "72d050a1-685a-4be0-ab23-0d2fa74f544a",
   "metadata": {},
   "source": [
    "**COLUMN_10**"
   ]
  },
  {
   "cell_type": "code",
   "execution_count": 47,
   "id": "f4d44992-f6bb-4c16-b533-636160c45474",
   "metadata": {},
   "outputs": [
    {
     "data": {
      "text/plain": [
       "0                        NaN\n",
       "1          Insurance6/8/2021\n",
       "2         Insurance28/4/2021\n",
       "3          Insurance1/1/2022\n",
       "4                        NaN\n",
       "                ...         \n",
       "32153                    NaN\n",
       "32154                    NaN\n",
       "32155                    NaN\n",
       "32156    Insurance27/10/2019\n",
       "32157    Insurance28/11/2019\n",
       "Name: Insurance, Length: 32158, dtype: object"
      ]
     },
     "execution_count": 47,
     "metadata": {},
     "output_type": "execute_result"
    }
   ],
   "source": [
    "df['Insurance']"
   ]
  },
  {
   "cell_type": "code",
   "execution_count": 48,
   "id": "2c5cccf8-7958-4b7e-99ef-d06a198d6102",
   "metadata": {},
   "outputs": [],
   "source": [
    "df['Insurance'] = df['Insurance'].str.replace('Insurance', '', regex=True)"
   ]
  },
  {
   "cell_type": "code",
   "execution_count": 49,
   "id": "7fe1dd5c-9d13-4af3-9e9f-2f8c978c952c",
   "metadata": {},
   "outputs": [],
   "source": [
    "df['Insurance'] = pd.to_datetime(df['Insurance'], errors='coerce')"
   ]
  },
  {
   "cell_type": "code",
   "execution_count": 50,
   "id": "de68efa6-2504-495f-a081-39fd02b983cf",
   "metadata": {},
   "outputs": [
    {
     "data": {
      "text/plain": [
       "23658"
      ]
     },
     "execution_count": 50,
     "metadata": {},
     "output_type": "execute_result"
    }
   ],
   "source": [
    "df['Insurance'].isnull().sum()"
   ]
  },
  {
   "cell_type": "markdown",
   "id": "25163eb3-00b2-4206-b10c-0a29f72565fc",
   "metadata": {},
   "source": [
    "**COLUMN_11**"
   ]
  },
  {
   "cell_type": "code",
   "execution_count": 51,
   "id": "87b66fbc-c469-45b6-8607-4dd7014165da",
   "metadata": {},
   "outputs": [
    {
     "data": {
      "text/plain": [
       "0        Insurance TypeInsurance Expired\n",
       "1                     Insurance TypeComp\n",
       "2                     Insurance TypeComp\n",
       "3                     Insurance TypeComp\n",
       "4                  Insurance TypeExpired\n",
       "                      ...               \n",
       "32153    Insurance TypeInsurance Expired\n",
       "32154    Insurance TypeInsurance Expired\n",
       "32155    Insurance TypeInsurance Expired\n",
       "32156    Insurance TypeZero Depreciation\n",
       "32157        Insurance TypeComprehensive\n",
       "Name: Insurance_Type, Length: 32158, dtype: object"
      ]
     },
     "execution_count": 51,
     "metadata": {},
     "output_type": "execute_result"
    }
   ],
   "source": [
    "df['Insurance_Type']"
   ]
  },
  {
   "cell_type": "code",
   "execution_count": 52,
   "id": "a44d9aad-ae81-42a0-bf86-7852929b760f",
   "metadata": {},
   "outputs": [],
   "source": [
    "df['Insurance_Type'] = df['Insurance_Type'].str.replace('Insurance Type', '', regex=True)"
   ]
  },
  {
   "cell_type": "code",
   "execution_count": 53,
   "id": "4f190dfc-a99a-4628-80c7-2f22ac6700b4",
   "metadata": {},
   "outputs": [
    {
     "data": {
      "text/plain": [
       "Insurance_Type\n",
       "Comprehensive        6506\n",
       "Insurance Expired    5426\n",
       "Comp                 5295\n",
       "Expired              3976\n",
       "3rd Party            3642\n",
       "Zero Depreciation    2884\n",
       "Third_party          2648\n",
       "Zero_Dep             1750\n",
       "Not Available          24\n",
       "Normal                  5\n",
       "NA                      1\n",
       "null                    1\n",
       "Name: count, dtype: int64"
      ]
     },
     "execution_count": 53,
     "metadata": {},
     "output_type": "execute_result"
    }
   ],
   "source": [
    "df['Insurance_Type'].value_counts()"
   ]
  },
  {
   "cell_type": "code",
   "execution_count": 54,
   "id": "e17762ca-3a89-4046-ac46-55c7c3c05757",
   "metadata": {},
   "outputs": [],
   "source": [
    "# Standardize the values\n",
    "df['Insurance_Type'] = df['Insurance_Type'].replace({\n",
    "    'Comp': 'Comprehensive',\n",
    "    'Expired': 'Insurance Expired',\n",
    "    'Third_party': '3rd Party',\n",
    "    'Zero_Dep': 'Zero Depreciation',\n",
    "    'null': 'NA',\n",
    "    'Not Available': 'NA',\n",
    "})"
   ]
  },
  {
   "cell_type": "code",
   "execution_count": 55,
   "id": "df27578b-ea64-4ff9-ad1d-75d58e840ead",
   "metadata": {},
   "outputs": [
    {
     "data": {
      "text/plain": [
       "Insurance_Type\n",
       "Comprehensive        11801\n",
       "Insurance Expired     9402\n",
       "3rd Party             6290\n",
       "Zero Depreciation     4634\n",
       "NA                      26\n",
       "Normal                   5\n",
       "Name: count, dtype: int64"
      ]
     },
     "execution_count": 55,
     "metadata": {},
     "output_type": "execute_result"
    }
   ],
   "source": [
    "df['Insurance_Type'].value_counts()"
   ]
  },
  {
   "cell_type": "code",
   "execution_count": 56,
   "id": "0157f18d-1791-42b4-b8e9-bf40fb120894",
   "metadata": {},
   "outputs": [
    {
     "name": "stdout",
     "output_type": "stream",
     "text": [
      "<class 'pandas.core.frame.DataFrame'>\n",
      "RangeIndex: 32158 entries, 0 to 32157\n",
      "Data columns (total 15 columns):\n",
      " #   Column            Non-Null Count  Dtype         \n",
      "---  ------            --------------  -----         \n",
      " 0   Price             32158 non-null  int64         \n",
      " 1   Rating            32158 non-null  float64       \n",
      " 2   city              32158 non-null  int64         \n",
      " 3   Kilometers        32158 non-null  int64         \n",
      " 4   Year_of_Purchase  32158 non-null  int64         \n",
      " 5   Owner             32158 non-null  int64         \n",
      " 6   Fuel_Type         32158 non-null  int64         \n",
      " 7   Transmission      29342 non-null  object        \n",
      " 8   RTO               32158 non-null  object        \n",
      " 9   Insurance         8500 non-null   datetime64[ns]\n",
      " 10  Insurance_Type    32158 non-null  object        \n",
      " 11  Brand             32158 non-null  object        \n",
      " 12  Model             32158 non-null  object        \n",
      " 13  Variant           32158 non-null  object        \n",
      " 14  Car_Age           32158 non-null  int64         \n",
      "dtypes: datetime64[ns](1), float64(1), int64(7), object(6)\n",
      "memory usage: 3.7+ MB\n"
     ]
    }
   ],
   "source": [
    "df.info()"
   ]
  },
  {
   "cell_type": "code",
   "execution_count": 57,
   "id": "61e24c16-c8e3-4021-8b1e-6228cf3889fd",
   "metadata": {},
   "outputs": [
    {
     "data": {
      "text/plain": [
       "Price                   0\n",
       "Rating                  0\n",
       "city                    0\n",
       "Kilometers              0\n",
       "Year_of_Purchase        0\n",
       "Owner                   0\n",
       "Fuel_Type               0\n",
       "Transmission         2816\n",
       "RTO                     0\n",
       "Insurance           23658\n",
       "Insurance_Type          0\n",
       "Brand                   0\n",
       "Model                   0\n",
       "Variant                 0\n",
       "Car_Age                 0\n",
       "dtype: int64"
      ]
     },
     "execution_count": 57,
     "metadata": {},
     "output_type": "execute_result"
    }
   ],
   "source": [
    "df.isnull().sum()"
   ]
  },
  {
   "cell_type": "code",
   "execution_count": 58,
   "id": "36cb0567-f7e7-44ae-948b-0f56f32a2d0b",
   "metadata": {},
   "outputs": [
    {
     "name": "stdout",
     "output_type": "stream",
     "text": [
      "Price               1.000000\n",
      "Rating              0.426457\n",
      "city                0.106947\n",
      "Kilometers         -0.188334\n",
      "Year_of_Purchase    0.500137\n",
      "Owner              -0.229177\n",
      "Fuel_Type          -0.283225\n",
      "Car_Age            -0.500137\n",
      "Name: Price, dtype: float64\n"
     ]
    }
   ],
   "source": [
    "import numpy as np\n",
    "\n",
    "# Select only numeric columns\n",
    "numeric_df = df.select_dtypes(include=[np.number])\n",
    "\n",
    "# Calculate the correlation matrix for numeric columns\n",
    "correlation_matrix = numeric_df.corr()\n",
    "\n",
    "# Extract the correlation of all features with the target variable (e.g., 'Price')\n",
    "target_corr = correlation_matrix['Price']  # Replace 'Price' with your target variable\n",
    "\n",
    "# Display the correlation values\n",
    "print(target_corr)"
   ]
  },
  {
   "cell_type": "markdown",
   "id": "1ee25a83-f7ce-4a95-b3a3-bd20642856c4",
   "metadata": {},
   "source": [
    "1. Year_of_Purchase (0.500137)\n",
    "   - There is a moderate positive correlation between the year of purchase and the price. This suggests that newer cars tend to have a higher price.\n",
    "2. Rating (0.426457)\n",
    "   - The car rating has a moderate positive correlation with the price. Higher-rated cars are likely to have a higher price.\n",
    "3. city (0.106947)\n",
    "   - This shows a very weak positive correlation with price, meaning the city code has a minor effect on car price.\n",
    "4. Kilometers (-0.188334)\n",
    "   - There is a weak negative correlation between the kilometers driven and the price. As the kilometers increase, the car price tends to decrease slightly.\n",
    "5. Owner (-0.229177)\n",
    "   - This shows a weak negative correlation. This means cars with more previous owners tend to have a slightly lower price.\n",
    "6. Fuel_Type (-0.283225)\n",
    "    - There is a moderate negative correlation, which could imply that certain fuel types (like Diesel) might have lower prices compared to others.\n",
    "7. Car_Age (-0.500137)\n",
    "   - A moderate negative correlation with price, meaning as the car age increases, its price decreases."
   ]
  },
  {
   "cell_type": "markdown",
   "id": "2813418c-9672-4278-b98e-5ee73ae769cf",
   "metadata": {},
   "source": [
    "**STEP_3: Data PreProcessing**"
   ]
  },
  {
   "cell_type": "markdown",
   "id": "8fca2cb3-6c9a-4152-837e-7bb893c595a6",
   "metadata": {},
   "source": [
    "**1. Invalid Data Type**\n",
    "   - There are no invalid data types left now. I have corrected them in the data understanding phase."
   ]
  },
  {
   "cell_type": "markdown",
   "id": "b57eb785-9343-456a-8f32-1cec37539429",
   "metadata": {},
   "source": [
    "**2. Handle Missing Data**\n",
    "   - There are 2,816 null values in the Transmission column.\n",
    "   - There are 23,658 null values in the Insurance column.\n",
    "   - There are 26 null values in the Insurance_Type column."
   ]
  },
  {
   "cell_type": "markdown",
   "id": "0343ea6b-3a72-4b84-a659-9a643e177fe4",
   "metadata": {},
   "source": [
    "**Transmission column**"
   ]
  },
  {
   "cell_type": "code",
   "execution_count": 59,
   "id": "5469b265-bf63-4add-95d2-eacb73f6f493",
   "metadata": {},
   "outputs": [],
   "source": [
    "# Impute missing 'Transmission' with the most frequent category\n",
    "df['Transmission'].fillna(df['Transmission'].mode()[0], inplace=True)"
   ]
  },
  {
   "cell_type": "markdown",
   "id": "74f3bc12-f1a4-4d9c-b614-ced3eeb63ca0",
   "metadata": {},
   "source": [
    "I am filling the null values with the mode because:\n",
    "- The Transmission column contains categorical data, where mean or median imputation techniques may not be suitable.\n",
    "- I am not dropping this column because it has only 8.75% missing values."
   ]
  },
  {
   "cell_type": "markdown",
   "id": "64ab8af3-4d44-41e6-a76c-0a489d402f1b",
   "metadata": {},
   "source": [
    "**Insurance column**"
   ]
  },
  {
   "cell_type": "code",
   "execution_count": 60,
   "id": "53017c8b-e973-421b-9f61-6b794f74dee6",
   "metadata": {},
   "outputs": [
    {
     "name": "stdout",
     "output_type": "stream",
     "text": [
      "Price                1.000000\n",
      "Insurance_Year       0.064231\n",
      "Insurance_Month     -0.014749\n",
      "Insurance_Day       -0.022944\n",
      "Insurance_Weekday   -0.001070\n",
      "Insurance_Elapsed   -0.044177\n",
      "Name: Price, dtype: float64\n"
     ]
    }
   ],
   "source": [
    "# Extract features from 'Insurance' datetime column\n",
    "df['Insurance_Year'] = df['Insurance'].dt.year\n",
    "df['Insurance_Month'] = df['Insurance'].dt.month\n",
    "df['Insurance_Day'] = df['Insurance'].dt.day\n",
    "df['Insurance_Weekday'] = df['Insurance'].dt.weekday\n",
    "df['Insurance_Elapsed'] = (df['Insurance'].max() - df['Insurance']).dt.days\n",
    "# Calculate correlation of new features with 'Price'\n",
    "correlation_matrix = df[['Price', 'Insurance_Year', 'Insurance_Month', 'Insurance_Day', \n",
    "                         'Insurance_Weekday', 'Insurance_Elapsed']].corr()\n",
    "\n",
    "# Display correlation with target variable (Price)\n",
    "print(correlation_matrix['Price'])"
   ]
  },
  {
   "cell_type": "code",
   "execution_count": 61,
   "id": "193a506b-a98a-4e62-b4b0-5684bc6fa19f",
   "metadata": {},
   "outputs": [],
   "source": [
    "df.drop(columns='Insurance', inplace=True)"
   ]
  },
  {
   "cell_type": "markdown",
   "id": "45c37930-f68d-478d-a017-92d3c7ffa3c3",
   "metadata": {},
   "source": [
    "- I am droping this column because it has 29% Missing values.\n",
    "- The correlations between the datetime-derived features and the Price target variable are very weak.\n",
    "- These features do not seem to have a strong relationship with Price. So, That's why I am droping this column"
   ]
  },
  {
   "cell_type": "code",
   "execution_count": 62,
   "id": "dc2b2364-28dd-43b9-af47-ab2ccf29f5d9",
   "metadata": {},
   "outputs": [],
   "source": [
    "df.drop(columns = ['Insurance_Year', 'Insurance_Month', 'Insurance_Day', 'Insurance_Weekday', 'Insurance_Elapsed'], inplace=True)"
   ]
  },
  {
   "cell_type": "markdown",
   "id": "9f56b051-bef3-43b7-98f4-4e640b2d31f9",
   "metadata": {},
   "source": [
    "- I am dropping these columns because I only extracted them to check the correlation with the target variable.\n",
    "- Since there is no strong relationship, I am dropping them."
   ]
  },
  {
   "cell_type": "markdown",
   "id": "64046d00-f61f-404e-b875-9c59dcac5fe6",
   "metadata": {},
   "source": [
    "**Insurance_Type**"
   ]
  },
  {
   "cell_type": "code",
   "execution_count": 63,
   "id": "8f0ed21c-235b-430e-8531-699cac81daac",
   "metadata": {},
   "outputs": [],
   "source": [
    "# Impute missing 'Insurance_Type' with the most frequent category\n",
    "df['Insurance_Type'].replace('NA', df['Insurance_Type'].mode()[0], inplace=True)"
   ]
  },
  {
   "cell_type": "markdown",
   "id": "6a4ce114-7aeb-4cfe-9991-e6cc1207c58f",
   "metadata": {},
   "source": [
    "I am filling the null values with the mode because:\n",
    "- The Insurance_Type column contains categorical data, where mean or median imputation techniques may not be suitable.\n",
    "- I am not dropping this column because it has only 0.08% missing values."
   ]
  },
  {
   "cell_type": "markdown",
   "id": "213781f2-624c-4691-940e-a39beff825a0",
   "metadata": {},
   "source": [
    "**3. Handle Categorical Data**"
   ]
  },
  {
   "cell_type": "markdown",
   "id": "56e1a517-3c2c-45a3-9c3c-9450bc64a65d",
   "metadata": {},
   "source": [
    "1. Transmission"
   ]
  },
  {
   "cell_type": "code",
   "execution_count": 64,
   "id": "2635cff4-a4c1-494d-8f9a-f827fb206376",
   "metadata": {},
   "outputs": [
    {
     "data": {
      "text/plain": [
       "Transmission\n",
       "MANUAL       29436\n",
       "AUTOMATIC     2722\n",
       "Name: count, dtype: int64"
      ]
     },
     "execution_count": 64,
     "metadata": {},
     "output_type": "execute_result"
    }
   ],
   "source": [
    "df['Transmission'].value_counts()"
   ]
  },
  {
   "cell_type": "code",
   "execution_count": 65,
   "id": "51a3ca78-11e8-408c-b199-de282bb78d72",
   "metadata": {},
   "outputs": [],
   "source": [
    "# Create a mapping for Transmission values\n",
    "transmission_mapping = {\n",
    "    'MANUAL': 0,\n",
    "    'AUTOMATIC': 1\n",
    "}\n",
    "\n",
    "# Apply the mapping to the Transmission column\n",
    "df['Transmission'] = df['Transmission'].map(transmission_mapping)"
   ]
  },
  {
   "cell_type": "code",
   "execution_count": 66,
   "id": "e9e6cbc8-4f02-4ed8-81bd-65393b09d89b",
   "metadata": {},
   "outputs": [
    {
     "data": {
      "text/plain": [
       "Transmission\n",
       "0    29436\n",
       "1     2722\n",
       "Name: count, dtype: int64"
      ]
     },
     "execution_count": 66,
     "metadata": {},
     "output_type": "execute_result"
    }
   ],
   "source": [
    "df['Transmission'].value_counts()"
   ]
  },
  {
   "cell_type": "markdown",
   "id": "af75beed-16ec-419b-8bae-cee84ec9752b",
   "metadata": {},
   "source": [
    "2. RTO"
   ]
  },
  {
   "cell_type": "code",
   "execution_count": 67,
   "id": "af300ec7-0a1c-41f4-8c9f-73777c10178c",
   "metadata": {},
   "outputs": [
    {
     "name": "stdout",
     "output_type": "stream",
     "text": [
      "F-statistic: 3.935904997452039, p-value: 5.90100565552551e-250\n"
     ]
    }
   ],
   "source": [
    "from scipy import stats\n",
    "\n",
    "# Perform ANOVA to test if 'Price' varies significantly across 'RTO' groups\n",
    "rto_groups = [group['Price'].values for name, group in df.groupby('RTO')]\n",
    "f_stat, p_value = stats.f_oneway(*rto_groups)\n",
    "\n",
    "# Display the results\n",
    "print(f'F-statistic: {f_stat}, p-value: {p_value}')"
   ]
  },
  {
   "cell_type": "markdown",
   "id": "3db65471-cf60-4b45-865b-723443581fd3",
   "metadata": {},
   "source": [
    "- i have applied Annova to  test if the means of a continuous variable (e.g., Price) differ significantly across different groups of a categorical variable (e.g., RTO) or for checking the relation between price and RTo"
   ]
  },
  {
   "cell_type": "code",
   "execution_count": 68,
   "id": "f28f9830-ec97-4851-b58b-e6f504c701b8",
   "metadata": {},
   "outputs": [],
   "source": [
    "# Frequency encoding\n",
    "rto_counts = df['RTO'].value_counts()\n",
    "df['RTO_encoded'] = df['RTO'].map(rto_counts)"
   ]
  },
  {
   "cell_type": "markdown",
   "id": "c5163f24-72d8-4e71-9ba4-2ccb948f8577",
   "metadata": {},
   "source": [
    "- I have appplied this becuayse, There are 777 unique values in the RTO column, One-Hot Encoding may lead to a large number of columns, making the dataset sparse and potentially inefficient.\n",
    "- Frequency encoding replaces each unique category in the RTO column with its frequency (i.e., how many times that category appears in the dataset).\n",
    "- This will reduce dimensionality compared to One-Hot Encoding."
   ]
  },
  {
   "cell_type": "code",
   "execution_count": 69,
   "id": "dfa82ef0-b2d8-4f1e-aeff-85b12d594b34",
   "metadata": {},
   "outputs": [],
   "source": [
    "df.drop(columns = ['RTO'], inplace=True)"
   ]
  },
  {
   "cell_type": "markdown",
   "id": "1894577c-0a39-4bfd-bfba-209456043d37",
   "metadata": {},
   "source": [
    "3. Insurance_Type"
   ]
  },
  {
   "cell_type": "code",
   "execution_count": 70,
   "id": "5d864ba6-3aa9-4c5f-871c-7c7d571c2925",
   "metadata": {},
   "outputs": [
    {
     "data": {
      "text/plain": [
       "Insurance_Type\n",
       "Comprehensive        11827\n",
       "Insurance Expired     9402\n",
       "3rd Party             6290\n",
       "Zero Depreciation     4634\n",
       "Normal                   5\n",
       "Name: count, dtype: int64"
      ]
     },
     "execution_count": 70,
     "metadata": {},
     "output_type": "execute_result"
    }
   ],
   "source": [
    "df['Insurance_Type'].value_counts()"
   ]
  },
  {
   "cell_type": "code",
   "execution_count": 71,
   "id": "a93721ce-1375-470f-bad0-791bbf6f5904",
   "metadata": {},
   "outputs": [],
   "source": [
    "# Create a mapping for Transmission values\n",
    "Insurance_Type_mapping = {\n",
    "    '3rd Party': 0,\n",
    "    'Comprehensive': 1,\n",
    "    'Insurance Expired': 2,\n",
    "    'Normal': 3,\n",
    "    'Zero Depreciation':4   \n",
    "}\n",
    "\n",
    "# Apply the mapping to the Transmission column\n",
    "df['Insurance_Type'] = df['Insurance_Type'].map(Insurance_Type_mapping)"
   ]
  },
  {
   "cell_type": "markdown",
   "id": "10eba0b4-90ec-4891-ab36-960ae095c062",
   "metadata": {},
   "source": [
    "4. Brand, Variant, Model"
   ]
  },
  {
   "cell_type": "code",
   "execution_count": 72,
   "id": "e752e6d3-5697-4637-b021-9c7a12640286",
   "metadata": {},
   "outputs": [],
   "source": [
    "brand_mapping = {brand: idx for idx, brand in enumerate(df['Brand'].unique())}\n",
    "df['Brand'] = df['Brand'].map(brand_mapping)"
   ]
  },
  {
   "cell_type": "code",
   "execution_count": 73,
   "id": "da2dee6a-3ce5-4013-b32b-0ce6c1405d9a",
   "metadata": {},
   "outputs": [],
   "source": [
    "brand_mapping = {brand: idx for idx, brand in enumerate(df['Model'].unique())}\n",
    "df['Model'] = df['Model'].map(brand_mapping)"
   ]
  },
  {
   "cell_type": "markdown",
   "id": "24f4dda7-0b81-42eb-98bd-877f05c8fbdf",
   "metadata": {},
   "source": [
    "**Exploratory Data Analysis(EDA)**"
   ]
  },
  {
   "cell_type": "code",
   "execution_count": 74,
   "id": "6c06396c-f653-4cee-8e6e-cd029bc69d41",
   "metadata": {},
   "outputs": [
    {
     "data": {
      "image/png": "[encoded data removed]",
      "text/plain": [
       "<Figure size 1000x800 with 2 Axes>"
      ]
     },
     "metadata": {},
     "output_type": "display_data"
    }
   ],
   "source": [
    "numeric_df = df.select_dtypes(include=['number'])\n",
    "correlation_matrix = numeric_df.corr()\n",
    "import seaborn as sns\n",
    "import matplotlib.pyplot as plt\n",
    "plt.figure(figsize=(10, 8))\n",
    "sns.heatmap(correlation_matrix, annot=True, cmap='coolwarm', fmt='.2f')\n",
    "plt.show()"
   ]
  },
  {
   "cell_type": "code",
   "execution_count": 75,
   "id": "27e2ba78-84df-410e-8063-b9c8d4224774",
   "metadata": {},
   "outputs": [],
   "source": [
    "df.drop(columns='RTO_encoded', inplace=True)"
   ]
  },
  {
   "cell_type": "markdown",
   "id": "dab62b62-3413-40d2-aa22-b47ad6bfa036",
   "metadata": {},
   "source": [
    "- A correlation of -0.04 indicates that RTO_encoded has almost no linear relationship with the target variable (Price).\n",
    "- Features that do not show a strong relationship with the target can add noise to the model, making it harder to learn useful patterns."
   ]
  },
  {
   "cell_type": "code",
   "execution_count": 76,
   "id": "6855c743-e959-43a0-a04e-54a520f9d0cf",
   "metadata": {},
   "outputs": [],
   "source": [
    "df.drop(columns=['Variant'], inplace=True)"
   ]
  },
  {
   "cell_type": "markdown",
   "id": "8fe3045c-045a-4ef5-8c11-79977ef2490b",
   "metadata": {},
   "source": [
    "- A correlation of 0 indicates that Variant has  no linear relationship with the target variable (Price)."
   ]
  },
  {
   "cell_type": "code",
   "execution_count": 77,
   "id": "42518734-6e88-48d1-a371-c53392f95d17",
   "metadata": {},
   "outputs": [
    {
     "data": {
      "image/png": "[encoded data removed]",
      "text/plain": [
       "<Figure size 640x480 with 1 Axes>"
      ]
     },
     "metadata": {},
     "output_type": "display_data"
    }
   ],
   "source": [
    "# Check for outliers using boxplot\n",
    "\n",
    "sns.boxplot(data=df, x='Kilometers')\n",
    "plt.title('Boxplot for Kilometers')\n",
    "plt.show()\n"
   ]
  },
  {
   "cell_type": "markdown",
   "id": "237da770-5349-4cbb-be9c-fed35eef34c2",
   "metadata": {},
   "source": [
    "- I  haven't dropped the outliers because the outliers in this Kilometers dataset might represent valid but extreme cases, and removing them could lead to a loss of important information"
   ]
  },
  {
   "cell_type": "code",
   "execution_count": 78,
   "id": "e51c949e-a8be-4c6f-9018-c7de78210680",
   "metadata": {},
   "outputs": [],
   "source": [
    "df.to_csv('cleaned.csv', index=False)"
   ]
  }
 ],
 "metadata": {
  "kernelspec": {
   "display_name": "Python 3 (ipykernel)",
   "language": "python",
   "name": "python3"
  },
  "language_info": {
   "codemirror_mode": {
    "name": "ipython",
    "version": 3
   },
   "file_extension": ".py",
   "mimetype": "text/x-python",
   "name": "python",
   "nbconvert_exporter": "python",
   "pygments_lexer": "ipython3",
   "version": "3.11.7"
  }
 },
 "nbformat": 4,
 "nbformat_minor": 5
}
